{
 "cells": [
  {
   "cell_type": "code",
   "execution_count": 1,
   "id": "b4130b47",
   "metadata": {},
   "outputs": [],
   "source": [
    "import cv2\n",
    "import numpy as np"
   ]
  },
  {
   "cell_type": "code",
   "execution_count": 24,
   "id": "206e027c",
   "metadata": {},
   "outputs": [],
   "source": [
    "cap = cv2.VideoCapture('C:\\\\Users\\\\Mostafa\\\\Downloads\\\\Artificial Intelligence\\\\vtest.avi')\n",
    "\n",
    "#frame_count = 10000\n",
    "#cap.set(cv2.CAP_PROP_FRAME_COUNT, frame_count)\n",
    "frame_width = int(cap.get(cv2.CAP_PROP_FRAME_WIDTH))\n",
    "frame_height = int(cap.get(cv2.CAP_PROP_FRAME_HEIGHT))\n",
    "\n",
    "\n",
    "fourcc = cv2.VideoWriter_fourcc(*\"XVID\")\n",
    "out = cv2.VideoWriter(\"output.avi\",fourcc,30,(1280,720))\n",
    "\n",
    "ret,frame1 = cap.read()\n",
    "ret,frame2 = cap.read()\n",
    "#print(frame1.shape)\n",
    "\n",
    "while cap.isOpened():\n",
    "    \n",
    "    diff = cv2.absdiff(frame1,frame2)\n",
    "    gray = cv2.cvtColor(diff,cv2.COLOR_BGR2GRAY)\n",
    "    \n",
    "    blur = cv2.GaussianBlur(gray,(5,5),0)\n",
    "    \n",
    "    _ , thresh = cv2.threshold(blur,60,255,cv2.THRESH_BINARY)\n",
    "    dilated = cv2.dilate(thresh,None,iterations = 10)\n",
    "    contours,_ = cv2.findContours(dilated,cv2.RETR_TREE,cv2.CHAIN_APPROX_NONE)\n",
    "    #draw = cv2.drawContours(frame1,contours,-1,(0,255,0),2)\n",
    "    \n",
    "    \n",
    "    for contour in contours :\n",
    "        \n",
    "        ( x , y , w , h ) = cv2.boundingRect(contour)\n",
    "        \n",
    "        if cv2.contourArea(contour) < 900 :\n",
    "            continue\n",
    "        cv2.rectangle( frame1 , (x,y) , ( x+w , y+h ) , ( 0 , 255 , 0 ) , 2 )\n",
    "        cv2.putText(frame1,\n",
    "                    \" status: {}\".format('movement'),\n",
    "                    (10,20),\n",
    "                    cv2.FONT_HERSHEY_COMPLEX,\n",
    "                    1,\n",
    "                    (0,0,255),\n",
    "                    3)\n",
    "    image = cv2.resize(frame1,(1280,720))\n",
    "    out.write(image)\n",
    "    cv2.imshow('motion detection ',frame1)\n",
    "   # cv2.imshow('thresh',thresh)\n",
    "   # cv2.imshow('dilated',dilated)\n",
    "   # cv2.imshow('draw',draw)\n",
    "        \n",
    "        \n",
    "        \n",
    "    frame1 = frame2\n",
    "        \n",
    "    ret , frame2 = cap.read()\n",
    "        \n",
    "    if cv2.waitKey(1) == 27 :\n",
    "        break\n",
    "            \n",
    "cv2.destroyAllWindows()\n",
    "cap.release()\n",
    "out.release()"
   ]
  },
  {
   "cell_type": "code",
   "execution_count": null,
   "id": "bc130de5",
   "metadata": {},
   "outputs": [],
   "source": []
  }
 ],
 "metadata": {
  "kernelspec": {
   "display_name": "Python 3 (ipykernel)",
   "language": "python",
   "name": "python3"
  },
  "language_info": {
   "codemirror_mode": {
    "name": "ipython",
    "version": 3
   },
   "file_extension": ".py",
   "mimetype": "text/x-python",
   "name": "python",
   "nbconvert_exporter": "python",
   "pygments_lexer": "ipython3",
   "version": "3.11.3"
  }
 },
 "nbformat": 4,
 "nbformat_minor": 5
}
